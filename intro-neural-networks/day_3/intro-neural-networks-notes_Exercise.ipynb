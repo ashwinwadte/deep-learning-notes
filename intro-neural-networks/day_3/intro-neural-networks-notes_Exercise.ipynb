{
 "cells": [
  {
   "cell_type": "markdown",
   "metadata": {},
   "source": [
    "## Coding Cross-entopy\n",
    "Code the formula for cross entopy in Python. You can use numpy.\n",
    "\n",
    "**Formula:** $$Cross-Entropy = -\\sum_{i=1}^{m} y_i ln(p_i) + (1-y_i) ln(1- p_i)$$"
   ]
  },
  {
   "cell_type": "code",
   "execution_count": null,
   "metadata": {},
   "outputs": [],
   "source": [
    "import numpy as np\n",
    "\n",
    "# Write a function that takes as input two lists Y, P,\n",
    "# and returns the float corresponding to their cross-entropy.\n",
    "def cross_entropy(Y, P):\n",
    "    pass\n",
    "\n",
    "\n",
    "# DON'T CHANGE ANYTHING BELOW\n",
    "def test_cross_entropy(Y, P):\n",
    "    correct_ans = 4.8283137373\n",
    "    \n",
    "    print(f'Trying for Y={Y} and P={P}.')\n",
    "    print(f'The correct answer is: {correct_ans}')\n",
    "    \n",
    "    returned_ans = cross_entropy(Y, P)\n",
    "    returned_ans = round(returned_ans, 10)\n",
    "    \n",
    "    print(f'And your code returned: {returned_ans}\\n')\n",
    "    print('Correct!' if correct_ans == returned_ans else 'Wrong!')\n",
    "\n",
    "Y=[1,0,1,1]\n",
    "P=[0.4,0.6,0.1,0.5]\n",
    "\n",
    "test_cross_entropy(Y, P)"
   ]
  }
 ],
 "metadata": {
  "kernelspec": {
   "display_name": "Python 3",
   "language": "python",
   "name": "python3"
  },
  "language_info": {
   "codemirror_mode": {
    "name": "ipython",
    "version": 3
   },
   "file_extension": ".py",
   "mimetype": "text/x-python",
   "name": "python",
   "nbconvert_exporter": "python",
   "pygments_lexer": "ipython3",
   "version": "3.7.0"
  }
 },
 "nbformat": 4,
 "nbformat_minor": 2
}
