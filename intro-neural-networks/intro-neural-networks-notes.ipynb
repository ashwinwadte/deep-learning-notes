{
 "cells": [
  {
   "cell_type": "markdown",
   "metadata": {
    "slideshow": {
     "slide_type": "slide"
    }
   },
   "source": [
    "### Concepts\n",
    "1. Intro to neural network and it's mathematics\n",
    "1. Intro to PyTorch\n",
    "1. Transfer learning\n",
    "1. CNN\n",
    "1. Style transfer\n",
    "1. RNN\n",
    "\n",
    "### data and exercises:\n",
    "1. MNIST\n",
    "1. CIFAR-100\n",
    "1. Cat-Dog\n",
    "1. Flower Images\n",
    "1. imdb movie database \n",
    "\n",
    "and exercises related to these\n",
    "\n",
    "#### Finally, we will do one project, where we will build, train, validate and test flower image classifier model from scratch"
   ]
  },
  {
   "cell_type": "code",
   "execution_count": null,
   "metadata": {
    "slideshow": {
     "slide_type": "slide"
    }
   },
   "outputs": [],
   "source": [
    "# intentionally left blank\n",
    "\n",
    "\n",
    "\n",
    "\n",
    "\n",
    "\n",
    "\n",
    "\n",
    "\n",
    "\n",
    "\n",
    "\n",
    "\n",
    "\n",
    "\n",
    "\n",
    "\n",
    "\n",
    "\n",
    "\n",
    "\n",
    "\n",
    "\n"
   ]
  },
  {
   "cell_type": "markdown",
   "metadata": {},
   "source": [
    "## Perceptron\n",
    "<img src=\"assets/linear_boundary.PNG\" width=900px>"
   ]
  },
  {
   "cell_type": "markdown",
   "metadata": {},
   "source": [
    "## 3-D\n",
    "<img src=\"assets/three_dimension.PNG\" width=900px>"
   ]
  },
  {
   "cell_type": "markdown",
   "metadata": {},
   "source": [
    "## Higher dimensional\n",
    "<img src=\"assets/higher_dimension.PNG\" width=900px>"
   ]
  },
  {
   "cell_type": "markdown",
   "metadata": {},
   "source": [
    "## Why neural network\n",
    "Perceptron looks like neurons in the brain.\n",
    "\n",
    "<img src=\"assets/neurons.PNG\" width=900px>"
   ]
  },
  {
   "cell_type": "markdown",
   "metadata": {},
   "source": [
    "## Non-Linear Regions\n",
    "\n",
    "What if we want to reject the student?\n",
    "\n",
    "<img src=\"assets/non_linear_reject_student.PNG\" width=900px>\n",
    "\n",
    "\n",
    "No matter what s/he gets in test, if grades are terrible, s/he will be rejected. So, data will look like this:\n",
    "\n",
    "\n",
    "<img src=\"assets/non_linear_data.PNG\" width=900px>\n",
    "\n",
    "\n",
    "How can this be separated?\n",
    "\n",
    "\n",
    "Circle\n",
    "<img src=\"assets/non_linear_circle.PNG\" width=900px>\n",
    "\n",
    "Two lines\n",
    "<img src=\"assets/non_linear_multi_lines.PNG\" width=900px>\n",
    "\n",
    "Curve\n",
    "<img src=\"assets/non_linear_curve.PNG\" width=900px>\n",
    "\n",
    "Let's go with curve...\n",
    "\n",
    "\n",
    "\n",
    "Unfortunately perceprton algorithm won't work this time. We need something more complex, we need to redefine perceptron algorithm for lines to generalize for other problems\n"
   ]
  },
  {
   "cell_type": "markdown",
   "metadata": {},
   "source": [
    "## Error Funtions\n",
    "\n",
    "Error function tells us that how far we are from solution. It will tell us the distance and then we will look around and see which step takes us closer to the solution. Take that step and repeat.\n",
    "\n",
    "<img src=\"assets/mount_clouds.png\" width=900px>\n",
    "\n",
    "\n",
    "Here, key metric used to solve the problem is height. We will call the height - the error\n",
    "\n",
    "<img src=\"assets/mount_height.png\" width=900px>"
   ]
  },
  {
   "cell_type": "markdown",
   "metadata": {},
   "source": [
    "## Let's try to split data using error as no. of misclassified points:\n",
    "\n",
    "<img src=\"assets/split_data_error.PNG\" width=900px>\n",
    "\n",
    "When we try to descent, the error is still 2 in discrete\n",
    "<img src=\"assets/error_fuction_discrete_continuous.PNG\" width=900px>\n"
   ]
  },
  {
   "cell_type": "markdown",
   "metadata": {},
   "source": [
    "## Gradient Descent\n",
    "\n",
    "<img src=\"assets/gd_error.PNG\" width=900px>"
   ]
  },
  {
   "cell_type": "markdown",
   "metadata": {},
   "source": [
    "## QUIZ QUESTION\n",
    "Which of the following conditions should be met in order to apply gradient descent? (Check all that apply.)\n",
    "\n",
    "\n",
    "* <input type=\"checkbox\"> The error function should be discrete</input>\n",
    "* <input type=\"checkbox\"> The error function should contain only positive values</input>\n",
    "* <input type=\"checkbox\" checked> The error function should be differentiable</input>\n",
    "* <input type=\"checkbox\"> The error function should be normalized</input>\n",
    "* <input type=\"checkbox\" checked> The error function should be continuous</input>"
   ]
  },
  {
   "cell_type": "markdown",
   "metadata": {},
   "source": [
    "## Discrete to Continuous Prediction\n",
    "\n",
    "<img src=\"assets/discrete_to_continuous_prediction.PNG\" width=900px>\n",
    "\n",
    "<img src=\"assets/activation_function_step_to_sigmoid.PNG\" width=900px>\n",
    "\n",
    "<img src=\"assets/sigmoid_prediction.PNG\" width=900px>\n",
    "\n",
    "<img src=\"assets/logit_to_sigmoid.PNG\" width=900px>\n",
    "\n",
    "<img src=\"assets/sigmoid_perceptron.PNG\" width=900px>"
   ]
  },
  {
   "cell_type": "markdown",
   "metadata": {},
   "source": [
    "## QUIZ QUESTION\n",
    "The sigmoid function is defined as sigmoid(x) = 1/(1+e-x). If the score is defined by 4x1 + 5x2 - 9 = score, then which of the following points has exactly a 50% probability of being blue or red? (Choose all that are correct.)\n",
    "\n",
    "\n",
    "* <input type=\"checkbox\" checked> (1, 1)</input>\n",
    "* <input type=\"checkbox\"> (2, 4)</input>\n",
    "* <input type=\"checkbox\"> (5, -5)</input>\n",
    "* <input type=\"checkbox\" checked> (-4, 5)</input>"
   ]
  },
  {
   "cell_type": "markdown",
   "metadata": {},
   "source": [
    "## Multi-Class Classification and Softmax\n",
    "<img src=\"assets/softmax_1.PNG\" width=900px>\n",
    "\n",
    "<img src=\"assets/softmax_2.PNG\" width=900px>\n",
    "\n",
    "<img src=\"assets/softmax_3.PNG\" width=900px>\n",
    "\n",
    "### What could be the problems with this method?\n",
    "<img src=\"assets/softmax_4.PNG\" width=900px>"
   ]
  },
  {
   "cell_type": "markdown",
   "metadata": {},
   "source": [
    "## QUIZ QUESTION\n",
    "What function turns every number into a positive number?\n",
    "\n",
    "\n",
    "* <input type=\"checkbox\"> sin</input>\n",
    "* <input type=\"checkbox\"> cos</input>\n",
    "* <input type=\"checkbox\"> log</input>\n",
    "* <input type=\"checkbox\" checked> exp</input>"
   ]
  },
  {
   "cell_type": "markdown",
   "metadata": {},
   "source": [
    "<img src=\"assets/softmax_5.PNG\" width=900px>\n",
    "\n",
    "## Softmax function and it's definition\n",
    "<img src=\"assets/softmax_6.PNG\" width=900px>"
   ]
  },
  {
   "cell_type": "markdown",
   "metadata": {},
   "source": [
    "## Quiz: Coding Softmax\n",
    "And now, your time to shine! Let's code the formula for the Softmax function in Python.\n",
    "\n",
    "Refer exercise notebook for softmax coding!"
   ]
  },
  {
   "cell_type": "markdown",
   "metadata": {},
   "source": [
    "## One-Hot Encoding\n",
    "\n",
    "So far, all the algorithms are numerical. This means, we need to input numbers but the input data will not always look like numbers.\n",
    "\n",
    "<img src=\"assets/one_hot_encoding1.png\" width=900px>\n",
    "\n",
    "<img src=\"assets/one_hot_encoding2.png\" width=900px>"
   ]
  },
  {
   "cell_type": "markdown",
   "metadata": {},
   "source": [
    "## Maximum Likelihood\n",
    "\n",
    "Probability will be one of our best friends as we go through Deep Learning. In this lesson, we'll see how we can use probability to evaluate (and improve!) our models.\n",
    "\n",
    "\n",
    "Let's say I have two models giving 80% and 55% probability of getting accepted, which one is good model?\n",
    "\n",
    "The best model is the model which gives higher probabilities to the events happen to us, whether its acceptance or rejection.\n",
    "\n",
    "This method is called ***Maximum Likelihood***. We pick the model which gives the existing labels the highest probability. Thus by maximizing the probability, we can pick the best possible model.\n",
    "\n",
    "\n",
    "<img src=\"assets/maximum_likelihood1.png\" width=900px>\n",
    "\n",
    "\n",
    "### Goal is to maximize the probability:\n",
    "\n",
    "<img src=\"assets/maximum_likelihood2.png\" width=900px>\n",
    "\n",
    "This method is called maximum likelihood."
   ]
  },
  {
   "cell_type": "markdown",
   "metadata": {},
   "source": [
    "## QUIZ QUESTION\n",
    "Which of the following is true for a very high value for P(all)?\n",
    "\n",
    "\n",
    "* <input type=\"checkbox\"> The model classifies most blue points correctly</input>\n",
    "* <input type=\"checkbox\"> The model classifies most red points correctly</input>\n",
    "* <input type=\"checkbox\"> The model classifies most points correctly with P(all) indicating how accurate the model is.</input>\n",
    "* <input type=\"checkbox\"> The model classifies all points correctly</input>"
   ]
  },
  {
   "cell_type": "markdown",
   "metadata": {},
   "source": [
    "## Maximizing Probabilities\n",
    "\n",
    "In this lesson and quiz, we will learn how to maximize a probability, using some math. Nothing more than high school math, so get ready for a trip down memory lane!\n",
    "\n",
    "*Is there any connection between error function and Probability?* Let's see.\n",
    "\n",
    "\n",
    "### Issue with product\n",
    "\n",
    "<img src=\"assets/product_to_sum.png\" width=900px>"
   ]
  },
  {
   "cell_type": "markdown",
   "metadata": {},
   "source": [
    "## QUIZ QUESTION\n",
    "What function turns products into sums??\n",
    "\n",
    "\n",
    "* <input type=\"checkbox\"> sin</input>\n",
    "* <input type=\"checkbox\"> cos</input>\n",
    "* <input type=\"checkbox\"> log.</input>\n",
    "* <input type=\"checkbox\"> exp</input>"
   ]
  },
  {
   "cell_type": "markdown",
   "metadata": {},
   "source": [
    "## Cross Entropy\n",
    "\n",
    "<img src=\"assets/cross_entropy1.PNG\" width=900px>\n",
    "\n",
    "**Low Value -> Good cross entropy**\n",
    "\n",
    "**High Value -> Bad cross entropy**\n",
    "\n",
    "\n",
    "* *Negative of logarithm of large number is small number*\n",
    "\n",
    "#### Value of misclassified points is more\n",
    "\n",
    "<img src=\"assets/cross_entropy2.PNG\" width=900px>"
   ]
  },
  {
   "cell_type": "markdown",
   "metadata": {},
   "source": [
    "If we have a bunch of events and probabilities. How likely is that those events happen based on probabilities?\n",
    "\n",
    "**If it's very likely -> small cross entropy**\n",
    "\n",
    "**If it's unlikely -> large cross entropy**\n",
    "\n",
    "\n",
    "#### Let's elaborate\n",
    "\n",
    "<img src=\"assets/cross_entropy3.png\" width=900px>\n",
    "\n",
    "<img src=\"assets/cross_entropy4.png\" width=900px>\n",
    "\n",
    "<img src=\"assets/cross_entropy5.png\" width=900px>\n",
    "\n",
    "<img src=\"assets/cross_entropy6.png\" width=900px>\n",
    "\n",
    "***The formula really encompasses the sums of negatives of logarithms which is precisely the cross entropy.***\n",
    "\n",
    "***So, the cross entropy really tells us, when two vectors are similar or different.***"
   ]
  },
  {
   "cell_type": "markdown",
   "metadata": {},
   "source": [
    "## Multi-Class Cross-Entropy\n",
    "\n",
    "<img src=\"assets/multi_class_cross_entropy1.PNG\" width=900px>\n",
    "\n",
    "<img src=\"assets/multi_class_cross_entropy2.PNG\" width=900px>\n",
    "\n",
    "<img src=\"assets/multi_class_cross_entropy3.PNG\" width=900px>\n",
    "\n",
    "Let's add some parameters:\n",
    "\n",
    "<img src=\"assets/multi_class_cross_entropy4.PNG\" width=900px>\n"
   ]
  },
  {
   "cell_type": "markdown",
   "metadata": {},
   "source": [
    "### Quiz\n",
    "\n",
    "Given that we have formula for two classes and *m* classes, these formulae look different. But for m = 2, are they same?"
   ]
  },
  {
   "cell_type": "markdown",
   "metadata": {},
   "source": [
    "## QUIZ QUESTION\n",
    "Based on what we have covered till now, which of the following is true??\n",
    "\n",
    "\n",
    "* <input type=\"checkbox\"> A higher cross-entropy implies a lower probability for an event.</input>\n",
    "* <input type=\"checkbox\"> A higher cross-entropy implies a higher probability for an event</input>\n",
    "* <input type=\"checkbox\"> There is no relation between the cross-entropy and the probability of an event</input>"
   ]
  },
  {
   "cell_type": "markdown",
   "metadata": {},
   "source": [
    "## Quiz: Coding Cross-entropy\n",
    "Now, time to shine! Let's code the formula for cross-entropy in Python.\n",
    "\n",
    "Refer exercise notebook for softmax coding!"
   ]
  },
  {
   "cell_type": "markdown",
   "metadata": {},
   "source": [
    "## Up-Next\n",
    "* Logistic Regression\n",
    "* Gradient Descent\n",
    "* Neural Network (NN) Architecture\n",
    "* Feedforward\n",
    "* Backpropagation\n",
    "* Training\n",
    "* Testing\n",
    "* Overfitting and Underfitting\n",
    "* Early Stopping\n",
    "* Regularization\n",
    "* Dropout\n",
    "* Local Minima\n",
    "* Random Restart\n",
    "* Vanishing Gradient\n",
    "* Other AF\n",
    "* Batch vs Stochastic GD\n",
    "* LR Decay\n",
    "* Momentum"
   ]
  },
  {
   "cell_type": "code",
   "execution_count": null,
   "metadata": {},
   "outputs": [],
   "source": []
  }
 ],
 "metadata": {
  "kernelspec": {
   "display_name": "Python 3",
   "language": "python",
   "name": "python3"
  },
  "language_info": {
   "codemirror_mode": {
    "name": "ipython",
    "version": 3
   },
   "file_extension": ".py",
   "mimetype": "text/x-python",
   "name": "python",
   "nbconvert_exporter": "python",
   "pygments_lexer": "ipython3",
   "version": "3.7.0"
  }
 },
 "nbformat": 4,
 "nbformat_minor": 2
}
