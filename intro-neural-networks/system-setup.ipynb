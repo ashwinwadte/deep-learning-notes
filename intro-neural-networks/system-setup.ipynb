{
 "cells": [
  {
   "cell_type": "markdown",
   "metadata": {},
   "source": [
    "## Install Git (optional but recommended)\n",
    "1. Refer https://www.atlassian.com/git/tutorials/install-git#windows\n",
    "\n",
    "## Install Anaconda or miniconda (Python 3.7)\n",
    "1. Install Anaconda using http://docs.anaconda.com/anaconda/install/windows/\n",
    "\n",
    "    **Note:** Anaconda is a fairly large download (~500 MB) because it comes with the most common data science packages in Python. If you don't need all the packages or need to conserve bandwidth or storage space, there is also `Miniconda`, a smaller distribution that includes only `conda` - a package and environment manager and Python. You can still install any of the available packages with conda, it just doesn't come with them.\n",
    "\n",
    "***OR***\n",
    "2. To install miniconda, refer https://conda.io/en/latest/miniconda.html\n",
    "\n",
    "## Install numpy, pandas and jupyter notebook using conda installed above\n",
    "1. Press `Windows + s` and search for `Anaconda prompt` and open it.\n",
    "1. Now, run this command: `conda install numpy pandas jupyter notebook`\n",
    "\n",
    "## Install PyTorch (Python 3.7)\n",
    "1. Refer https://pytorch.org/get-started/locally/ \n",
    "1. Choose Python 3.7\n",
    "1. If your PC has Nvidia GPU, then choose CUDA version 9.0. You do not have to install cuda separately.\n",
    "1. Just run the command you get after selecting options in Anaconda prompt. It will do all the necessary setup.\n",
    "\n",
    "\n",
    "## Change Jupyter startup folder\n",
    "1. There are mainly two methods, you can use any of them:\n",
    "    1. https://stackoverflow.com/a/39453881/7929069\n",
    "        1. This method may lead to DLL load error which can be solved using https://stackoverflow.com/a/53516493/7929069\n",
    "    1. https://stackoverflow.com/a/36433389/7929069 (if you use the same workspace, this method is recommended)\n",
    "    1. For other methods, refer the whole page of above stackoverflow link\n",
    "\n",
    "## Clone following git repos using git bash installed above\n",
    "1. Navigate to the folder where you would like to start your workspace\n",
    "1. Right click in the folder and click on `Git Bash Here`\n",
    "1. Now, run the following commands:\n",
    "    1. `git clone https://github.com/ashwinwadte/deep-learning-v2-pytorch.git`\n",
    "    1. `git clone https://github.com/ashwinwadte/deep-learning-notes.git`\n",
    "\n"
   ]
  },
  {
   "cell_type": "markdown",
   "metadata": {},
   "source": [
    "### Markdown for Jupyter notebooks cheatsheet\n",
    "1. https://github.com/adam-p/markdown-here/wiki/Markdown-Cheatsheet\n",
    "1. https://www.ibm.com/support/knowledgecenter/SSQNUZ_current/com.ibm.icpdata.doc/dsx/markd-jupyter.html\n",
    "\n",
    "Mathematics cheetsheet: \n",
    "1. http://csrgxtu.github.io/2015/03/20/Writing-Mathematic-Fomulars-in-Markdown/\n",
    "1. https://en.wikibooks.org/wiki/LaTeX/Mathematics"
   ]
  },
  {
   "cell_type": "code",
   "execution_count": null,
   "metadata": {},
   "outputs": [],
   "source": []
  }
 ],
 "metadata": {
  "kernelspec": {
   "display_name": "Python 3",
   "language": "python",
   "name": "python3"
  },
  "language_info": {
   "codemirror_mode": {
    "name": "ipython",
    "version": 3
   },
   "file_extension": ".py",
   "mimetype": "text/x-python",
   "name": "python",
   "nbconvert_exporter": "python",
   "pygments_lexer": "ipython3",
   "version": "3.7.0"
  }
 },
 "nbformat": 4,
 "nbformat_minor": 2
}
