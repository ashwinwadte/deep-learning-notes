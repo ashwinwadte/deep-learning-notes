{
 "cells": [
  {
   "cell_type": "markdown",
   "metadata": {},
   "source": [
    "### Concepts\n",
    "1. Intro to neural network and it's mathematics\n",
    "1. Intro to PyTorch\n",
    "1. Transfer learning\n",
    "1. CNN\n",
    "1. Style transfer\n",
    "1. RNN\n",
    "\n",
    "### data and exercises:\n",
    "1. MNIST\n",
    "1. CIFAR-100\n",
    "1. Cat-Dog\n",
    "1. Flower Images\n",
    "1. imdb movie database \n",
    "\n",
    "and exercises related to these"
   ]
  }
 ],
 "metadata": {
  "kernelspec": {
   "display_name": "Python 3",
   "language": "python",
   "name": "python3"
  },
  "language_info": {
   "codemirror_mode": {
    "name": "ipython",
    "version": 3
   },
   "file_extension": ".py",
   "mimetype": "text/x-python",
   "name": "python",
   "nbconvert_exporter": "python",
   "pygments_lexer": "ipython3",
   "version": "3.7.0"
  }
 },
 "nbformat": 4,
 "nbformat_minor": 2
}
