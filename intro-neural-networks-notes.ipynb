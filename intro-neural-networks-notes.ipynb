{
 "cells": [
  {
   "cell_type": "markdown",
   "metadata": {},
   "source": [
    "### Concepts\n",
    "1. Intro to neural network and it's mathematics\n",
    "1. Intro to PyTorch\n",
    "1. Transfer learning\n",
    "1. CNN\n",
    "1. Style transfer\n",
    "1. RNN\n",
    "\n",
    "### data and exercises:\n",
    "1. MNIST\n",
    "1. CIFAR-100\n",
    "1. Cat-Dog\n",
    "1. Flower Images\n",
    "1. imdb movie database \n",
    "\n",
    "and exercises related to these\n",
    "\n",
    "#### Finally, we will do one project, where we will build, train, validate and test flower image classifier model from scratch"
   ]
  },
  {
   "cell_type": "code",
   "execution_count": null,
   "metadata": {},
   "outputs": [],
   "source": [
    "# intentionally left blank\n",
    "\n",
    "\n",
    "\n",
    "\n",
    "\n",
    "\n",
    "\n",
    "\n",
    "\n",
    "\n",
    "\n",
    "\n",
    "\n",
    "\n",
    "\n",
    "\n",
    "\n",
    "\n",
    "\n",
    "\n",
    "\n",
    "\n",
    "\n"
   ]
  },
  {
   "cell_type": "markdown",
   "metadata": {},
   "source": [
    "## Perceptron\n",
    "<img src=\"assets/linear_boundary.PNG\" width=900px>"
   ]
  },
  {
   "cell_type": "markdown",
   "metadata": {},
   "source": [
    "## 3-D\n",
    "<img src=\"assets/three_dimension.PNG\" width=900px>"
   ]
  },
  {
   "cell_type": "markdown",
   "metadata": {},
   "source": [
    "## Higher dimensional\n",
    "<img src=\"assets/higher_dimension.PNG\" width=900px>"
   ]
  },
  {
   "cell_type": "markdown",
   "metadata": {},
   "source": [
    "## Why neural network\n",
    "Perceptron looks like neurons in the brain.\n",
    "\n",
    "<img src=\"assets/neurons.PNG\" width=900px>"
   ]
  },
  {
   "cell_type": "markdown",
   "metadata": {},
   "source": [
    "## Non-Linear Regions\n",
    "\n",
    "What if we want to reject the student?\n",
    "\n",
    "<img src=\"assets/non_linear_reject_student.PNG\" width=900px>\n",
    "\n",
    "\n",
    "No matter what s/he gets in test, if grades are terrible, s/he will be rejected. So, data will look like this:\n",
    "\n",
    "\n",
    "<img src=\"assets/non_linear_data.PNG\" width=900px>\n",
    "\n",
    "\n",
    "How can this be separated?\n",
    "\n",
    "\n",
    "Circle\n",
    "<img src=\"assets/non_linear_circle.PNG\" width=900px>\n",
    "\n",
    "Two lines\n",
    "<img src=\"assets/non_linear_multi_lines.PNG\" width=900px>\n",
    "\n",
    "Curve\n",
    "<img src=\"assets/non_linear_curve.PNG\" width=900px>\n",
    "\n",
    "Let's go with curve...\n",
    "\n",
    "\n",
    "\n",
    "Unfortunately perceprton algorithm won't work this time. We need something more complex, we need to redefine perceptron algorithm for lines to generalize for other problems\n"
   ]
  },
  {
   "cell_type": "markdown",
   "metadata": {},
   "source": [
    "## Error Funtions\n",
    "\n",
    "Error function tells us that how far we are from solution. It will tell us the distance and then we will look around and see which step takes us closer to the solution. Take that step and repeat.\n",
    "\n",
    "<img src=\"assets/mount_clouds.png\" width=900px>\n",
    "\n",
    "\n",
    "Here, key metric used to solve the problem is height. We will call the height - the error\n",
    "\n",
    "<img src=\"assets/mount_height.png\" width=900px>"
   ]
  },
  {
   "cell_type": "markdown",
   "metadata": {},
   "source": [
    "## Let's try to split data using error as no. of misclassified points:\n",
    "\n",
    "<img src=\"assets/split_data_error.PNG\" width=900px>\n",
    "\n",
    "When we try to descent, the error is still 2 in discrete\n",
    "<img src=\"assets/error_fuction_discrete_continuous.PNG\" width=900px>\n"
   ]
  },
  {
   "cell_type": "markdown",
   "metadata": {},
   "source": [
    "## Gradient Descent\n",
    "\n",
    "<img src=\"assets/gd_error.PNG\" width=900px>"
   ]
  },
  {
   "cell_type": "markdown",
   "metadata": {},
   "source": [
    "## QUIZ QUESTION\n",
    "Which of the following conditions should be met in order to apply gradient descent? (Check all that apply.)\n",
    "\n",
    "\n",
    "* <input type=\"checkbox\"> The error function should be discrete</input>\n",
    "* <input type=\"checkbox\"> The error function should contain only positive values</input>\n",
    "* <input type=\"checkbox\" checked> The error function should be differentiable</input>\n",
    "* <input type=\"checkbox\"> The error function should be normalized</input>\n",
    "* <input type=\"checkbox\" checked> The error function should be continuous</input>"
   ]
  },
  {
   "cell_type": "markdown",
   "metadata": {},
   "source": [
    "## Discrete to Continuous Prediction\n",
    "\n",
    "<img src=\"assets/discrete_to_continuous_prediction.PNG\" width=900px>\n",
    "\n",
    "<img src=\"assets/activation_function_step_to_sigmoid.PNG\" width=900px>\n",
    "\n",
    "<img src=\"assets/sigmoid_prediction.PNG\" width=900px>\n",
    "\n",
    "<img src=\"assets/logit_to_sigmoid.PNG\" width=900px>\n",
    "\n",
    "<img src=\"assets/sigmoid_perceptron.PNG\" width=900px>"
   ]
  },
  {
   "cell_type": "markdown",
   "metadata": {},
   "source": [
    "## QUIZ QUESTION\n",
    "The sigmoid function is defined as sigmoid(x) = 1/(1+e-x). If the score is defined by 4x1 + 5x2 - 9 = score, then which of the following points has exactly a 50% probability of being blue or red? (Choose all that are correct.)\n",
    "\n",
    "\n",
    "* <input type=\"checkbox\" checked> (1, 1)</input>\n",
    "* <input type=\"checkbox\"> (2, 4)</input>\n",
    "* <input type=\"checkbox\"> (5, -5)</input>\n",
    "* <input type=\"checkbox\" checked> (-4, 5)</input>"
   ]
  },
  {
   "cell_type": "markdown",
   "metadata": {},
   "source": [
    "## Multi-Class Classification and Softmax\n",
    "<img src=\"assets/softmax_1.PNG\" width=900px>\n",
    "\n",
    "<img src=\"assets/softmax_2.PNG\" width=900px>\n",
    "\n",
    "<img src=\"assets/softmax_3.PNG\" width=900px>\n",
    "\n",
    "### What could be the problems with this method?\n",
    "<img src=\"assets/softmax_4.PNG\" width=900px>"
   ]
  },
  {
   "cell_type": "markdown",
   "metadata": {},
   "source": [
    "## QUIZ QUESTION\n",
    "What function turns every number into a positive number?\n",
    "\n",
    "\n",
    "* <input type=\"checkbox\"> sin</input>\n",
    "* <input type=\"checkbox\"> cos</input>\n",
    "* <input type=\"checkbox\"> log</input>\n",
    "* <input type=\"checkbox\" checked> exp</input>"
   ]
  },
  {
   "cell_type": "markdown",
   "metadata": {},
   "source": [
    "<img src=\"assets/softmax_5.PNG\" width=900px>\n",
    "\n",
    "## Softmax function and it's definition\n",
    "<img src=\"assets/softmax_6.PNG\" width=900px>"
   ]
  },
  {
   "cell_type": "markdown",
   "metadata": {},
   "source": [
    "## Quiz: Coding Softmax\n",
    "And now, your time to shine! Let's code the formula for the Softmax function in Python.\n",
    "\n",
    "Refer exercise notebook for softmax coding!"
   ]
  },
  {
   "cell_type": "markdown",
   "metadata": {},
   "source": [
    "## Up-Next\n",
    "* One-Hot Encoding\n",
    "* Maximum Likelihood\n",
    "* Cross Entropy\n",
    "* Logistic Regression\n",
    "* Gradient Descent\n",
    "* Neural Network (NN) Architecture\n",
    "* Feedforward\n",
    "* Backpropagation\n",
    "* Training\n",
    "* Testing\n",
    "* Overfitting and Underfitting\n",
    "* Early Stopping\n",
    "* Regularization\n",
    "* Dropout\n",
    "* Local Minima\n",
    "* Random Restart\n",
    "* Vanishing Gradient\n",
    "* Other AF\n",
    "* Batch vs Stochastic GD\n",
    "* LR Decay\n",
    "* Momentum"
   ]
  }
 ],
 "metadata": {
  "kernelspec": {
   "display_name": "Python 3",
   "language": "python",
   "name": "python3"
  },
  "language_info": {
   "codemirror_mode": {
    "name": "ipython",
    "version": 3
   },
   "file_extension": ".py",
   "mimetype": "text/x-python",
   "name": "python",
   "nbconvert_exporter": "python",
   "pygments_lexer": "ipython3",
   "version": "3.7.0"
  }
 },
 "nbformat": 4,
 "nbformat_minor": 2
}
