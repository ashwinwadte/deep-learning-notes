{
 "cells": [
  {
   "cell_type": "markdown",
   "metadata": {},
   "source": [
    "## Install Git (optional but recommended)\n",
    "1. Refer https://www.atlassian.com/git/tutorials/install-git#windows\n",
    "\n",
    "## Install miniconda (Python 3.7)\n",
    "1. Refer https://conda.io/docs/user-guide/install/windows.html \n",
    "2. If above link fails, install Anaconda using http://docs.anaconda.com/anaconda/install/windows/ \n",
    "\n",
    "## Install numpy, pandas and jupyter notebook using conda installed above\n",
    "1. Press `Windows + s` and search for `Anaconda prompt` and open it.\n",
    "2. Now, run this command: `conda install numpy pandas jupyter notebook`\n",
    "\n",
    "## Install PyTorch\n",
    "1. Refer https://pytorch.org/get-started/locally/ \n",
    "\n",
    "## Change Jupyter startup folder\n",
    "1. There are mainly two methods, you can use any of them:\n",
    "    1. https://stackoverflow.com/a/39453881/7929069\n",
    "        1. This method may lead to DLL load error which can be solved using https://stackoverflow.com/a/53516493/7929069\n",
    "    1. https://stackoverflow.com/a/36433389/7929069 (if you use the same workspace, this method is recommended)\n",
    "    1. For other methods, refer the whole page of above stackoverflow link\n",
    "\n",
    "## Clone following git repos using git bash installed above\n",
    "1. Navigate to the folder where you would like to start your workspace\n",
    "1. Right click in the folder and click on `Git Bash Here`\n",
    "1. Now, run the following commands:\n",
    "    1. `git clone https://github.com/ashwinwadte/deep-learning-v2-pytorch.git`\n",
    "    1. `git clone https://github.com/ashwinwadte/deep-learning-notes.git`\n",
    "\n"
   ]
  },
  {
   "cell_type": "markdown",
   "metadata": {},
   "source": [
    "### Markdown for Jupyter notebooks cheatsheet\n",
    "https://www.ibm.com/support/knowledgecenter/SSQNUZ_current/com.ibm.icpdata.doc/dsx/markd-jupyter.html"
   ]
  }
 ],
 "metadata": {
  "kernelspec": {
   "display_name": "Python 3",
   "language": "python",
   "name": "python3"
  },
  "language_info": {
   "codemirror_mode": {
    "name": "ipython",
    "version": 3
   },
   "file_extension": ".py",
   "mimetype": "text/x-python",
   "name": "python",
   "nbconvert_exporter": "python",
   "pygments_lexer": "ipython3",
   "version": "3.7.0"
  }
 },
 "nbformat": 4,
 "nbformat_minor": 2
}
